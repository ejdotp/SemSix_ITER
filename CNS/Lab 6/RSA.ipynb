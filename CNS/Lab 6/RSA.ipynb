{
 "cells": [
  {
   "cell_type": "code",
   "execution_count": 1,
   "id": "383b6d5f",
   "metadata": {},
   "outputs": [],
   "source": [
    "from Crypto.PublicKey import RSA\n",
    "from Crypto.Cipher import PKCS1_OAEP\n",
    "import binascii"
   ]
  },
  {
   "cell_type": "code",
   "execution_count": 2,
   "id": "86c89eaf",
   "metadata": {},
   "outputs": [],
   "source": [
    "# Generate RSA key pair (Public & Private)\n",
    "key = RSA.generate(2048)\n",
    "public_key = key.publickey()\n",
    "private_key = key"
   ]
  },
  {
   "cell_type": "code",
   "execution_count": 3,
   "id": "c18e0085",
   "metadata": {},
   "outputs": [],
   "source": [
    "def encryption(public_key, plaintext):\n",
    "    cipher = PKCS1_OAEP.new(public_key)\n",
    "    ciphertext = cipher.encrypt(plaintext.encode())\n",
    "    return binascii.hexlify(ciphertext).decode()"
   ]
  },
  {
   "cell_type": "code",
   "execution_count": 4,
   "id": "5a203a01",
   "metadata": {},
   "outputs": [],
   "source": [
    "def decryption(private_key, ciphertext):\n",
    "    cipher = PKCS1_OAEP.new(private_key)\n",
    "    decrypted_text = cipher.decrypt(binascii.unhexlify(ciphertext)).decode()\n",
    "    return decrypted_text"
   ]
  },
  {
   "cell_type": "code",
   "execution_count": 5,
   "id": "492b686d",
   "metadata": {},
   "outputs": [
    {
     "name": "stdout",
     "output_type": "stream",
     "text": [
      "Enter Plain-Text: Hello, RSA!\n",
      "Plain-Text is: Hello, RSA!\n"
     ]
    }
   ],
   "source": [
    "P = input(\"Enter Plain-Text: \")\n",
    "print(\"Plain-Text is:\", P)"
   ]
  },
  {
   "cell_type": "code",
   "execution_count": 6,
   "id": "d6f08920",
   "metadata": {},
   "outputs": [
    {
     "name": "stdout",
     "output_type": "stream",
     "text": [
      "Cipher-Text after encryption: 7dcf3d32cc86c941b61a747b8a71640d3c9787a84cbe963ebc064ab26bbb73a4fd0f7eba3aca49791e93066d4b49f6ff46b986173fe85abaef1f72f753c5699d9ad3839043ee9a08da3fe25087ded6a94c8521a2e65d51f95632d3a7467881fa3a3587f40f2a132a069ca09daec1151b673143596afe61d596f8584a6fa49e97faf088441227851ebb3f5e2c9aaa825945351e3eef981b648449903a0875c2672d99f7a1c45a8c0cf8e9dd775c769e6632e233930aea93c2ae84a2367f84545554cb7acdb210ac26ec0396cf6980b7cfc05bad5290687064e84502b8433143394fcc84ae3d6b73ac6efd2d889da5955ca7132ebcce083f5a8722e2231c86b0cb\n"
     ]
    }
   ],
   "source": [
    "C = encryption(public_key, P)\n",
    "print(\"Cipher-Text after encryption:\", C)"
   ]
  },
  {
   "cell_type": "code",
   "execution_count": 7,
   "id": "ee394653",
   "metadata": {},
   "outputs": [
    {
     "name": "stdout",
     "output_type": "stream",
     "text": [
      "Decrypted Text: Hello, RSA!\n"
     ]
    }
   ],
   "source": [
    "P_decrypted = decryption(private_key, C)\n",
    "print(\"Decrypted Text:\", P_decrypted)"
   ]
  },
  {
   "cell_type": "code",
   "execution_count": null,
   "id": "774bd4cd",
   "metadata": {},
   "outputs": [],
   "source": []
  }
 ],
 "metadata": {
  "kernelspec": {
   "display_name": "Python 3 (ipykernel)",
   "language": "python",
   "name": "python3"
  },
  "language_info": {
   "codemirror_mode": {
    "name": "ipython",
    "version": 3
   },
   "file_extension": ".py",
   "mimetype": "text/x-python",
   "name": "python",
   "nbconvert_exporter": "python",
   "pygments_lexer": "ipython3",
   "version": "3.11.4"
  }
 },
 "nbformat": 4,
 "nbformat_minor": 5
}
